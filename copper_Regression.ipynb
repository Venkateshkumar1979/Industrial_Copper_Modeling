{
 "cells": [
  {
   "cell_type": "code",
   "execution_count": 1,
   "id": "640fe3b1",
   "metadata": {},
   "outputs": [],
   "source": [
    "# Importing necessary libraries\n",
    "import pandas as pd\n",
    "import numpy as np\n",
    "import seaborn as sns\n",
    "from datetime import datetime\n",
    "import matplotlib.pyplot as plt\n",
    "import warnings\n",
    "warnings.filterwarnings(\"ignore\")"
   ]
  },
  {
   "cell_type": "code",
   "execution_count": 2,
   "id": "a67fb6b5",
   "metadata": {},
   "outputs": [],
   "source": [
    "df=pd.read_csv('copper_new.csv')"
   ]
  },
  {
   "cell_type": "code",
   "execution_count": 3,
   "id": "b023dc19",
   "metadata": {},
   "outputs": [
    {
     "data": {
      "text/html": [
       "<div>\n",
       "<style scoped>\n",
       "    .dataframe tbody tr th:only-of-type {\n",
       "        vertical-align: middle;\n",
       "    }\n",
       "\n",
       "    .dataframe tbody tr th {\n",
       "        vertical-align: top;\n",
       "    }\n",
       "\n",
       "    .dataframe thead th {\n",
       "        text-align: right;\n",
       "    }\n",
       "</style>\n",
       "<table border=\"1\" class=\"dataframe\">\n",
       "  <thead>\n",
       "    <tr style=\"text-align: right;\">\n",
       "      <th></th>\n",
       "      <th>item_date</th>\n",
       "      <th>quantity tons</th>\n",
       "      <th>customer</th>\n",
       "      <th>country</th>\n",
       "      <th>status</th>\n",
       "      <th>item type</th>\n",
       "      <th>application</th>\n",
       "      <th>thickness</th>\n",
       "      <th>width</th>\n",
       "      <th>product_ref</th>\n",
       "      <th>delivery date</th>\n",
       "      <th>selling_price</th>\n",
       "      <th>CrSArea</th>\n",
       "    </tr>\n",
       "  </thead>\n",
       "  <tbody>\n",
       "    <tr>\n",
       "      <th>0</th>\n",
       "      <td>2021-04-01</td>\n",
       "      <td>7.358668</td>\n",
       "      <td>30156308.0</td>\n",
       "      <td>28.0</td>\n",
       "      <td>Won</td>\n",
       "      <td>W</td>\n",
       "      <td>10.0</td>\n",
       "      <td>0.693147</td>\n",
       "      <td>1500.0</td>\n",
       "      <td>1670798778</td>\n",
       "      <td>2021-07-01</td>\n",
       "      <td>854.00</td>\n",
       "      <td>8.006368</td>\n",
       "    </tr>\n",
       "    <tr>\n",
       "      <th>1</th>\n",
       "      <td>2021-04-01</td>\n",
       "      <td>27.713174</td>\n",
       "      <td>30202938.0</td>\n",
       "      <td>25.0</td>\n",
       "      <td>Won</td>\n",
       "      <td>W</td>\n",
       "      <td>41.0</td>\n",
       "      <td>-0.223144</td>\n",
       "      <td>1210.0</td>\n",
       "      <td>1668701718</td>\n",
       "      <td>2021-04-01</td>\n",
       "      <td>1047.00</td>\n",
       "      <td>6.875232</td>\n",
       "    </tr>\n",
       "    <tr>\n",
       "      <th>2</th>\n",
       "      <td>2021-04-01</td>\n",
       "      <td>19.650191</td>\n",
       "      <td>30153963.0</td>\n",
       "      <td>30.0</td>\n",
       "      <td>Won</td>\n",
       "      <td>WI</td>\n",
       "      <td>28.0</td>\n",
       "      <td>-0.967584</td>\n",
       "      <td>952.0</td>\n",
       "      <td>628377</td>\n",
       "      <td>2021-01-01</td>\n",
       "      <td>644.33</td>\n",
       "      <td>5.890981</td>\n",
       "    </tr>\n",
       "    <tr>\n",
       "      <th>3</th>\n",
       "      <td>2021-04-01</td>\n",
       "      <td>14.227087</td>\n",
       "      <td>30349574.0</td>\n",
       "      <td>32.0</td>\n",
       "      <td>Won</td>\n",
       "      <td>S</td>\n",
       "      <td>59.0</td>\n",
       "      <td>0.832909</td>\n",
       "      <td>1317.0</td>\n",
       "      <td>1668701718</td>\n",
       "      <td>2021-01-01</td>\n",
       "      <td>768.00</td>\n",
       "      <td>8.016021</td>\n",
       "    </tr>\n",
       "    <tr>\n",
       "      <th>4</th>\n",
       "      <td>2021-04-01</td>\n",
       "      <td>28.027308</td>\n",
       "      <td>30211560.0</td>\n",
       "      <td>28.0</td>\n",
       "      <td>Won</td>\n",
       "      <td>W</td>\n",
       "      <td>10.0</td>\n",
       "      <td>1.386294</td>\n",
       "      <td>2000.0</td>\n",
       "      <td>640665</td>\n",
       "      <td>2021-03-01</td>\n",
       "      <td>577.00</td>\n",
       "      <td>8.987197</td>\n",
       "    </tr>\n",
       "    <tr>\n",
       "      <th>...</th>\n",
       "      <td>...</td>\n",
       "      <td>...</td>\n",
       "      <td>...</td>\n",
       "      <td>...</td>\n",
       "      <td>...</td>\n",
       "      <td>...</td>\n",
       "      <td>...</td>\n",
       "      <td>...</td>\n",
       "      <td>...</td>\n",
       "      <td>...</td>\n",
       "      <td>...</td>\n",
       "      <td>...</td>\n",
       "      <td>...</td>\n",
       "    </tr>\n",
       "    <tr>\n",
       "      <th>181613</th>\n",
       "      <td>2020-07-02</td>\n",
       "      <td>10.333441</td>\n",
       "      <td>30200854.0</td>\n",
       "      <td>25.0</td>\n",
       "      <td>Won</td>\n",
       "      <td>W</td>\n",
       "      <td>41.0</td>\n",
       "      <td>-0.040822</td>\n",
       "      <td>1240.0</td>\n",
       "      <td>164141591</td>\n",
       "      <td>2020-07-01</td>\n",
       "      <td>602.00</td>\n",
       "      <td>7.082045</td>\n",
       "    </tr>\n",
       "    <tr>\n",
       "      <th>181614</th>\n",
       "      <td>2020-07-02</td>\n",
       "      <td>10.123241</td>\n",
       "      <td>30200854.0</td>\n",
       "      <td>25.0</td>\n",
       "      <td>Won</td>\n",
       "      <td>W</td>\n",
       "      <td>41.0</td>\n",
       "      <td>-0.040822</td>\n",
       "      <td>1220.0</td>\n",
       "      <td>164141591</td>\n",
       "      <td>2020-07-01</td>\n",
       "      <td>591.00</td>\n",
       "      <td>7.065784</td>\n",
       "    </tr>\n",
       "    <tr>\n",
       "      <th>181615</th>\n",
       "      <td>2020-07-02</td>\n",
       "      <td>14.425325</td>\n",
       "      <td>30200854.0</td>\n",
       "      <td>25.0</td>\n",
       "      <td>Won</td>\n",
       "      <td>W</td>\n",
       "      <td>41.0</td>\n",
       "      <td>-0.051293</td>\n",
       "      <td>1500.0</td>\n",
       "      <td>164141591</td>\n",
       "      <td>2020-07-01</td>\n",
       "      <td>589.00</td>\n",
       "      <td>7.261927</td>\n",
       "    </tr>\n",
       "    <tr>\n",
       "      <th>181616</th>\n",
       "      <td>2020-07-02</td>\n",
       "      <td>2.059126</td>\n",
       "      <td>30200854.0</td>\n",
       "      <td>25.0</td>\n",
       "      <td>Won</td>\n",
       "      <td>W</td>\n",
       "      <td>41.0</td>\n",
       "      <td>-0.342490</td>\n",
       "      <td>1250.0</td>\n",
       "      <td>164141591</td>\n",
       "      <td>2020-07-01</td>\n",
       "      <td>619.00</td>\n",
       "      <td>6.788409</td>\n",
       "    </tr>\n",
       "    <tr>\n",
       "      <th>181617</th>\n",
       "      <td>2020-07-02</td>\n",
       "      <td>20.166556</td>\n",
       "      <td>30200854.0</td>\n",
       "      <td>25.0</td>\n",
       "      <td>Won</td>\n",
       "      <td>W</td>\n",
       "      <td>41.0</td>\n",
       "      <td>-0.342490</td>\n",
       "      <td>1240.0</td>\n",
       "      <td>164141591</td>\n",
       "      <td>2020-07-01</td>\n",
       "      <td>607.00</td>\n",
       "      <td>6.780376</td>\n",
       "    </tr>\n",
       "  </tbody>\n",
       "</table>\n",
       "<p>181618 rows × 13 columns</p>\n",
       "</div>"
      ],
      "text/plain": [
       "         item_date  quantity tons    customer  country status item type  \\\n",
       "0       2021-04-01       7.358668  30156308.0     28.0    Won         W   \n",
       "1       2021-04-01      27.713174  30202938.0     25.0    Won         W   \n",
       "2       2021-04-01      19.650191  30153963.0     30.0    Won        WI   \n",
       "3       2021-04-01      14.227087  30349574.0     32.0    Won         S   \n",
       "4       2021-04-01      28.027308  30211560.0     28.0    Won         W   \n",
       "...            ...            ...         ...      ...    ...       ...   \n",
       "181613  2020-07-02      10.333441  30200854.0     25.0    Won         W   \n",
       "181614  2020-07-02      10.123241  30200854.0     25.0    Won         W   \n",
       "181615  2020-07-02      14.425325  30200854.0     25.0    Won         W   \n",
       "181616  2020-07-02       2.059126  30200854.0     25.0    Won         W   \n",
       "181617  2020-07-02      20.166556  30200854.0     25.0    Won         W   \n",
       "\n",
       "        application  thickness   width  product_ref delivery date  \\\n",
       "0              10.0   0.693147  1500.0   1670798778    2021-07-01   \n",
       "1              41.0  -0.223144  1210.0   1668701718    2021-04-01   \n",
       "2              28.0  -0.967584   952.0       628377    2021-01-01   \n",
       "3              59.0   0.832909  1317.0   1668701718    2021-01-01   \n",
       "4              10.0   1.386294  2000.0       640665    2021-03-01   \n",
       "...             ...        ...     ...          ...           ...   \n",
       "181613         41.0  -0.040822  1240.0    164141591    2020-07-01   \n",
       "181614         41.0  -0.040822  1220.0    164141591    2020-07-01   \n",
       "181615         41.0  -0.051293  1500.0    164141591    2020-07-01   \n",
       "181616         41.0  -0.342490  1250.0    164141591    2020-07-01   \n",
       "181617         41.0  -0.342490  1240.0    164141591    2020-07-01   \n",
       "\n",
       "        selling_price   CrSArea  \n",
       "0              854.00  8.006368  \n",
       "1             1047.00  6.875232  \n",
       "2              644.33  5.890981  \n",
       "3              768.00  8.016021  \n",
       "4              577.00  8.987197  \n",
       "...               ...       ...  \n",
       "181613         602.00  7.082045  \n",
       "181614         591.00  7.065784  \n",
       "181615         589.00  7.261927  \n",
       "181616         619.00  6.788409  \n",
       "181617         607.00  6.780376  \n",
       "\n",
       "[181618 rows x 13 columns]"
      ]
     },
     "execution_count": 3,
     "metadata": {},
     "output_type": "execute_result"
    }
   ],
   "source": [
    "df"
   ]
  },
  {
   "cell_type": "code",
   "execution_count": 4,
   "id": "122b0fd4",
   "metadata": {},
   "outputs": [
    {
     "data": {
      "text/plain": [
       "Index(['item_date', 'quantity tons', 'customer', 'country', 'status',\n",
       "       'item type', 'application', 'thickness', 'width', 'product_ref',\n",
       "       'delivery date', 'selling_price', 'CrSArea'],\n",
       "      dtype='object')"
      ]
     },
     "execution_count": 4,
     "metadata": {},
     "output_type": "execute_result"
    }
   ],
   "source": [
    "df.columns"
   ]
  },
  {
   "cell_type": "code",
   "execution_count": 5,
   "id": "e14653e6",
   "metadata": {},
   "outputs": [
    {
     "name": "stdout",
     "output_type": "stream",
     "text": [
      "------------------ SKEW VALUES-----------------\n",
      "Quantity: 5.32184948820137\n",
      "thickness: 0.3490985018063481\n",
      "width: 0.3748221845833184\n",
      "Selling Price: 108.58133601218383\n"
     ]
    }
   ],
   "source": [
    "print('------------------ SKEW VALUES-----------------')\n",
    "print('Quantity:',df['quantity tons'].skew())\n",
    "print('thickness:',df['thickness'].skew())\n",
    "print('width:',df['width'].skew())\n",
    "print('Selling Price:',df['selling_price'].skew())"
   ]
  },
  {
   "cell_type": "code",
   "execution_count": 6,
   "id": "aeb727f5",
   "metadata": {},
   "outputs": [
    {
     "data": {
      "text/plain": [
       "item_date        0\n",
       "quantity tons    0\n",
       "customer         0\n",
       "country          0\n",
       "status           0\n",
       "item type        0\n",
       "application      0\n",
       "thickness        0\n",
       "width            0\n",
       "product_ref      0\n",
       "delivery date    0\n",
       "selling_price    0\n",
       "CrSArea          0\n",
       "dtype: int64"
      ]
     },
     "execution_count": 6,
     "metadata": {},
     "output_type": "execute_result"
    }
   ],
   "source": [
    "df.isnull().sum()"
   ]
  },
  {
   "cell_type": "code",
   "execution_count": 11,
   "id": "33300005",
   "metadata": {},
   "outputs": [
    {
     "name": "stdout",
     "output_type": "stream",
     "text": [
      "<class 'pandas.core.frame.DataFrame'>\n",
      "RangeIndex: 181618 entries, 0 to 181617\n",
      "Data columns (total 13 columns):\n",
      " #   Column         Non-Null Count   Dtype  \n",
      "---  ------         --------------   -----  \n",
      " 0   item_date      181618 non-null  object \n",
      " 1   quantity tons  181618 non-null  float64\n",
      " 2   customer       181618 non-null  float64\n",
      " 3   country        181618 non-null  float64\n",
      " 4   status         181618 non-null  object \n",
      " 5   item type      181618 non-null  object \n",
      " 6   application    181618 non-null  object \n",
      " 7   thickness      181618 non-null  float64\n",
      " 8   width          181618 non-null  float64\n",
      " 9   product_ref    181618 non-null  int64  \n",
      " 10  delivery date  181618 non-null  object \n",
      " 11  selling_price  181618 non-null  float64\n",
      " 12  CrSArea        181618 non-null  float64\n",
      "dtypes: float64(7), int64(1), object(5)\n",
      "memory usage: 18.0+ MB\n"
     ]
    }
   ],
   "source": [
    "df.info()"
   ]
  },
  {
   "cell_type": "code",
   "execution_count": 9,
   "id": "8f893029",
   "metadata": {},
   "outputs": [
    {
     "data": {
      "text/plain": [
       "30"
      ]
     },
     "execution_count": 9,
     "metadata": {},
     "output_type": "execute_result"
    }
   ],
   "source": [
    "df['application'].nunique()"
   ]
  },
  {
   "cell_type": "code",
   "execution_count": 10,
   "id": "b2984218",
   "metadata": {},
   "outputs": [],
   "source": [
    "df['application']=df['application'].astype(str)"
   ]
  },
  {
   "cell_type": "code",
   "execution_count": 21,
   "id": "89e42859",
   "metadata": {},
   "outputs": [],
   "source": [
    "df1['country']=df1['country'].astype(str)"
   ]
  },
  {
   "cell_type": "code",
   "execution_count": 12,
   "id": "f7e1ab92",
   "metadata": {},
   "outputs": [],
   "source": [
    "df1=df.copy()"
   ]
  },
  {
   "cell_type": "code",
   "execution_count": 13,
   "id": "702b9722",
   "metadata": {},
   "outputs": [
    {
     "data": {
      "text/html": [
       "<div>\n",
       "<style scoped>\n",
       "    .dataframe tbody tr th:only-of-type {\n",
       "        vertical-align: middle;\n",
       "    }\n",
       "\n",
       "    .dataframe tbody tr th {\n",
       "        vertical-align: top;\n",
       "    }\n",
       "\n",
       "    .dataframe thead th {\n",
       "        text-align: right;\n",
       "    }\n",
       "</style>\n",
       "<table border=\"1\" class=\"dataframe\">\n",
       "  <thead>\n",
       "    <tr style=\"text-align: right;\">\n",
       "      <th></th>\n",
       "      <th>item_date</th>\n",
       "      <th>quantity tons</th>\n",
       "      <th>customer</th>\n",
       "      <th>country</th>\n",
       "      <th>status</th>\n",
       "      <th>item type</th>\n",
       "      <th>application</th>\n",
       "      <th>thickness</th>\n",
       "      <th>width</th>\n",
       "      <th>product_ref</th>\n",
       "      <th>delivery date</th>\n",
       "      <th>selling_price</th>\n",
       "      <th>CrSArea</th>\n",
       "    </tr>\n",
       "  </thead>\n",
       "  <tbody>\n",
       "    <tr>\n",
       "      <th>0</th>\n",
       "      <td>2021-04-01</td>\n",
       "      <td>7.358668</td>\n",
       "      <td>30156308.0</td>\n",
       "      <td>28.0</td>\n",
       "      <td>Won</td>\n",
       "      <td>W</td>\n",
       "      <td>10.0</td>\n",
       "      <td>0.693147</td>\n",
       "      <td>1500.0</td>\n",
       "      <td>1670798778</td>\n",
       "      <td>2021-07-01</td>\n",
       "      <td>854.00</td>\n",
       "      <td>8.006368</td>\n",
       "    </tr>\n",
       "    <tr>\n",
       "      <th>1</th>\n",
       "      <td>2021-04-01</td>\n",
       "      <td>27.713174</td>\n",
       "      <td>30202938.0</td>\n",
       "      <td>25.0</td>\n",
       "      <td>Won</td>\n",
       "      <td>W</td>\n",
       "      <td>41.0</td>\n",
       "      <td>-0.223144</td>\n",
       "      <td>1210.0</td>\n",
       "      <td>1668701718</td>\n",
       "      <td>2021-04-01</td>\n",
       "      <td>1047.00</td>\n",
       "      <td>6.875232</td>\n",
       "    </tr>\n",
       "    <tr>\n",
       "      <th>2</th>\n",
       "      <td>2021-04-01</td>\n",
       "      <td>19.650191</td>\n",
       "      <td>30153963.0</td>\n",
       "      <td>30.0</td>\n",
       "      <td>Won</td>\n",
       "      <td>WI</td>\n",
       "      <td>28.0</td>\n",
       "      <td>-0.967584</td>\n",
       "      <td>952.0</td>\n",
       "      <td>628377</td>\n",
       "      <td>2021-01-01</td>\n",
       "      <td>644.33</td>\n",
       "      <td>5.890981</td>\n",
       "    </tr>\n",
       "    <tr>\n",
       "      <th>3</th>\n",
       "      <td>2021-04-01</td>\n",
       "      <td>14.227087</td>\n",
       "      <td>30349574.0</td>\n",
       "      <td>32.0</td>\n",
       "      <td>Won</td>\n",
       "      <td>S</td>\n",
       "      <td>59.0</td>\n",
       "      <td>0.832909</td>\n",
       "      <td>1317.0</td>\n",
       "      <td>1668701718</td>\n",
       "      <td>2021-01-01</td>\n",
       "      <td>768.00</td>\n",
       "      <td>8.016021</td>\n",
       "    </tr>\n",
       "    <tr>\n",
       "      <th>4</th>\n",
       "      <td>2021-04-01</td>\n",
       "      <td>28.027308</td>\n",
       "      <td>30211560.0</td>\n",
       "      <td>28.0</td>\n",
       "      <td>Won</td>\n",
       "      <td>W</td>\n",
       "      <td>10.0</td>\n",
       "      <td>1.386294</td>\n",
       "      <td>2000.0</td>\n",
       "      <td>640665</td>\n",
       "      <td>2021-03-01</td>\n",
       "      <td>577.00</td>\n",
       "      <td>8.987197</td>\n",
       "    </tr>\n",
       "    <tr>\n",
       "      <th>...</th>\n",
       "      <td>...</td>\n",
       "      <td>...</td>\n",
       "      <td>...</td>\n",
       "      <td>...</td>\n",
       "      <td>...</td>\n",
       "      <td>...</td>\n",
       "      <td>...</td>\n",
       "      <td>...</td>\n",
       "      <td>...</td>\n",
       "      <td>...</td>\n",
       "      <td>...</td>\n",
       "      <td>...</td>\n",
       "      <td>...</td>\n",
       "    </tr>\n",
       "    <tr>\n",
       "      <th>181613</th>\n",
       "      <td>2020-07-02</td>\n",
       "      <td>10.333441</td>\n",
       "      <td>30200854.0</td>\n",
       "      <td>25.0</td>\n",
       "      <td>Won</td>\n",
       "      <td>W</td>\n",
       "      <td>41.0</td>\n",
       "      <td>-0.040822</td>\n",
       "      <td>1240.0</td>\n",
       "      <td>164141591</td>\n",
       "      <td>2020-07-01</td>\n",
       "      <td>602.00</td>\n",
       "      <td>7.082045</td>\n",
       "    </tr>\n",
       "    <tr>\n",
       "      <th>181614</th>\n",
       "      <td>2020-07-02</td>\n",
       "      <td>10.123241</td>\n",
       "      <td>30200854.0</td>\n",
       "      <td>25.0</td>\n",
       "      <td>Won</td>\n",
       "      <td>W</td>\n",
       "      <td>41.0</td>\n",
       "      <td>-0.040822</td>\n",
       "      <td>1220.0</td>\n",
       "      <td>164141591</td>\n",
       "      <td>2020-07-01</td>\n",
       "      <td>591.00</td>\n",
       "      <td>7.065784</td>\n",
       "    </tr>\n",
       "    <tr>\n",
       "      <th>181615</th>\n",
       "      <td>2020-07-02</td>\n",
       "      <td>14.425325</td>\n",
       "      <td>30200854.0</td>\n",
       "      <td>25.0</td>\n",
       "      <td>Won</td>\n",
       "      <td>W</td>\n",
       "      <td>41.0</td>\n",
       "      <td>-0.051293</td>\n",
       "      <td>1500.0</td>\n",
       "      <td>164141591</td>\n",
       "      <td>2020-07-01</td>\n",
       "      <td>589.00</td>\n",
       "      <td>7.261927</td>\n",
       "    </tr>\n",
       "    <tr>\n",
       "      <th>181616</th>\n",
       "      <td>2020-07-02</td>\n",
       "      <td>2.059126</td>\n",
       "      <td>30200854.0</td>\n",
       "      <td>25.0</td>\n",
       "      <td>Won</td>\n",
       "      <td>W</td>\n",
       "      <td>41.0</td>\n",
       "      <td>-0.342490</td>\n",
       "      <td>1250.0</td>\n",
       "      <td>164141591</td>\n",
       "      <td>2020-07-01</td>\n",
       "      <td>619.00</td>\n",
       "      <td>6.788409</td>\n",
       "    </tr>\n",
       "    <tr>\n",
       "      <th>181617</th>\n",
       "      <td>2020-07-02</td>\n",
       "      <td>20.166556</td>\n",
       "      <td>30200854.0</td>\n",
       "      <td>25.0</td>\n",
       "      <td>Won</td>\n",
       "      <td>W</td>\n",
       "      <td>41.0</td>\n",
       "      <td>-0.342490</td>\n",
       "      <td>1240.0</td>\n",
       "      <td>164141591</td>\n",
       "      <td>2020-07-01</td>\n",
       "      <td>607.00</td>\n",
       "      <td>6.780376</td>\n",
       "    </tr>\n",
       "  </tbody>\n",
       "</table>\n",
       "<p>181618 rows × 13 columns</p>\n",
       "</div>"
      ],
      "text/plain": [
       "         item_date  quantity tons    customer  country status item type  \\\n",
       "0       2021-04-01       7.358668  30156308.0     28.0    Won         W   \n",
       "1       2021-04-01      27.713174  30202938.0     25.0    Won         W   \n",
       "2       2021-04-01      19.650191  30153963.0     30.0    Won        WI   \n",
       "3       2021-04-01      14.227087  30349574.0     32.0    Won         S   \n",
       "4       2021-04-01      28.027308  30211560.0     28.0    Won         W   \n",
       "...            ...            ...         ...      ...    ...       ...   \n",
       "181613  2020-07-02      10.333441  30200854.0     25.0    Won         W   \n",
       "181614  2020-07-02      10.123241  30200854.0     25.0    Won         W   \n",
       "181615  2020-07-02      14.425325  30200854.0     25.0    Won         W   \n",
       "181616  2020-07-02       2.059126  30200854.0     25.0    Won         W   \n",
       "181617  2020-07-02      20.166556  30200854.0     25.0    Won         W   \n",
       "\n",
       "       application  thickness   width  product_ref delivery date  \\\n",
       "0             10.0   0.693147  1500.0   1670798778    2021-07-01   \n",
       "1             41.0  -0.223144  1210.0   1668701718    2021-04-01   \n",
       "2             28.0  -0.967584   952.0       628377    2021-01-01   \n",
       "3             59.0   0.832909  1317.0   1668701718    2021-01-01   \n",
       "4             10.0   1.386294  2000.0       640665    2021-03-01   \n",
       "...            ...        ...     ...          ...           ...   \n",
       "181613        41.0  -0.040822  1240.0    164141591    2020-07-01   \n",
       "181614        41.0  -0.040822  1220.0    164141591    2020-07-01   \n",
       "181615        41.0  -0.051293  1500.0    164141591    2020-07-01   \n",
       "181616        41.0  -0.342490  1250.0    164141591    2020-07-01   \n",
       "181617        41.0  -0.342490  1240.0    164141591    2020-07-01   \n",
       "\n",
       "        selling_price   CrSArea  \n",
       "0              854.00  8.006368  \n",
       "1             1047.00  6.875232  \n",
       "2              644.33  5.890981  \n",
       "3              768.00  8.016021  \n",
       "4              577.00  8.987197  \n",
       "...               ...       ...  \n",
       "181613         602.00  7.082045  \n",
       "181614         591.00  7.065784  \n",
       "181615         589.00  7.261927  \n",
       "181616         619.00  6.788409  \n",
       "181617         607.00  6.780376  \n",
       "\n",
       "[181618 rows x 13 columns]"
      ]
     },
     "execution_count": 13,
     "metadata": {},
     "output_type": "execute_result"
    }
   ],
   "source": [
    "df1"
   ]
  },
  {
   "cell_type": "code",
   "execution_count": 22,
   "id": "b02a08d5",
   "metadata": {},
   "outputs": [
    {
     "name": "stdout",
     "output_type": "stream",
     "text": [
      "<class 'pandas.core.frame.DataFrame'>\n",
      "RangeIndex: 181618 entries, 0 to 181617\n",
      "Data columns (total 13 columns):\n",
      " #   Column         Non-Null Count   Dtype  \n",
      "---  ------         --------------   -----  \n",
      " 0   item_date      181618 non-null  object \n",
      " 1   quantity tons  181618 non-null  float64\n",
      " 2   customer       181618 non-null  float64\n",
      " 3   country        181618 non-null  object \n",
      " 4   status         181618 non-null  object \n",
      " 5   item type      181618 non-null  object \n",
      " 6   application    181618 non-null  object \n",
      " 7   thickness      181618 non-null  float64\n",
      " 8   width          181618 non-null  float64\n",
      " 9   product_ref    181618 non-null  int64  \n",
      " 10  delivery date  181618 non-null  object \n",
      " 11  selling_price  181618 non-null  float64\n",
      " 12  CrSArea        181618 non-null  float64\n",
      "dtypes: float64(6), int64(1), object(6)\n",
      "memory usage: 18.0+ MB\n"
     ]
    }
   ],
   "source": [
    "df1.info()"
   ]
  },
  {
   "cell_type": "code",
   "execution_count": 15,
   "id": "e4e32d20",
   "metadata": {},
   "outputs": [
    {
     "name": "stdout",
     "output_type": "stream",
     "text": [
      "------------------ SKEW VALUES-----------------\n",
      "Quantity: 5.32184948820137\n",
      "thickness: 0.3490985018063481\n",
      "width: 0.3748221845833184\n",
      "Selling Price: 108.58133601218383\n"
     ]
    }
   ],
   "source": [
    "print('------------------ SKEW VALUES-----------------')\n",
    "print('Quantity:',df1['quantity tons'].skew())\n",
    "print('thickness:',df1['thickness'].skew())\n",
    "print('width:',df1['width'].skew())\n",
    "print('Selling Price:',df1['selling_price'].skew())"
   ]
  },
  {
   "cell_type": "code",
   "execution_count": 18,
   "id": "ad83e395",
   "metadata": {},
   "outputs": [
    {
     "data": {
      "text/plain": [
       "-5.482277174827723"
      ]
     },
     "execution_count": 18,
     "metadata": {},
     "output_type": "execute_result"
    }
   ],
   "source": [
    "splog=np.log(df1['selling_price']).skew()\n",
    "splog"
   ]
  },
  {
   "cell_type": "code",
   "execution_count": 19,
   "id": "e90a1f10",
   "metadata": {},
   "outputs": [
    {
     "data": {
      "text/plain": [
       "-1.057336055452746"
      ]
     },
     "execution_count": 19,
     "metadata": {},
     "output_type": "execute_result"
    }
   ],
   "source": [
    "sp2=np.sqrt(df1['selling_price']).skew()\n",
    "sp2"
   ]
  },
  {
   "cell_type": "code",
   "execution_count": 20,
   "id": "91477344",
   "metadata": {},
   "outputs": [
    {
     "data": {
      "text/plain": [
       "0.7536709522448005"
      ]
     },
     "execution_count": 20,
     "metadata": {},
     "output_type": "execute_result"
    }
   ],
   "source": [
    "qty=np.power(df1['quantity tons'],1/4).skew()\n",
    "qty"
   ]
  },
  {
   "cell_type": "code",
   "execution_count": 23,
   "id": "48330800",
   "metadata": {},
   "outputs": [],
   "source": [
    "df1['qty_4']=np.power(df1['quantity tons'],(1/4))"
   ]
  },
  {
   "cell_type": "code",
   "execution_count": 25,
   "id": "388d3609",
   "metadata": {},
   "outputs": [],
   "source": [
    "df1['spsq']=np.sqrt(df1['selling_price'])"
   ]
  },
  {
   "cell_type": "code",
   "execution_count": 26,
   "id": "65dbbc36",
   "metadata": {},
   "outputs": [
    {
     "name": "stdout",
     "output_type": "stream",
     "text": [
      "------------------ SKEW VALUES-----------------\n",
      "Quantity: 0.7536709522448005\n",
      "thickness: 0.3490985018063481\n",
      "width: 0.3748221845833184\n",
      "Selling Price: -1.057336055452746\n"
     ]
    }
   ],
   "source": [
    "print('------------------ SKEW VALUES-----------------')\n",
    "print('Quantity:',df1['qty_4'].skew())\n",
    "print('thickness:',df1['thickness'].skew())\n",
    "print('width:',df1['width'].skew())\n",
    "print('Selling Price:',df1['spsq'].skew())"
   ]
  },
  {
   "cell_type": "code",
   "execution_count": 28,
   "id": "0697694d",
   "metadata": {
    "scrolled": true
   },
   "outputs": [
    {
     "data": {
      "image/png": "[encoded data removed]",
      "text/plain": [
       "<Figure size 640x480 with 1 Axes>"
      ]
     },
     "metadata": {},
     "output_type": "display_data"
    },
    {
     "data": {
      "image/png": "[encoded data removed]",
      "text/plain": [
       "<Figure size 640x480 with 1 Axes>"
      ]
     },
     "metadata": {},
     "output_type": "display_data"
    },
    {
     "data": {
      "image/png": "[encoded data removed]",
      "text/plain": [
       "<Figure size 640x480 with 1 Axes>"
      ]
     },
     "metadata": {},
     "output_type": "display_data"
    },
    {
     "data": {
      "image/png": "[encoded data removed]",
      "text/plain": [
       "<Figure size 640x480 with 1 Axes>"
      ]
     },
     "metadata": {},
     "output_type": "display_data"
    }
   ],
   "source": [
    "sns.distplot(df1['qty_4'])\n",
    "plt.show()\n",
    "sns.distplot(df1['thickness'])\n",
    "plt.show()\n",
    "sns.distplot(df1['width'])\n",
    "plt.show()\n",
    "sns.distplot(df1['spsq'])\n",
    "plt.show()"
   ]
  },
  {
   "cell_type": "markdown",
   "id": "2ccc6bca",
   "metadata": {},
   "source": [
    "## Modeling - Decision Tree Regressor"
   ]
  },
  {
   "cell_type": "code",
   "execution_count": 29,
   "id": "14a3272e",
   "metadata": {},
   "outputs": [],
   "source": [
    "import pandas as pd\n",
    "import numpy as np\n",
    "from sklearn.model_selection import train_test_split\n",
    "from sklearn.tree import DecisionTreeRegressor\n",
    "from sklearn.preprocessing import StandardScaler, OneHotEncoder\n",
    "from sklearn.metrics import mean_squared_error, r2_score\n",
    "from sklearn.model_selection import GridSearchCV"
   ]
  },
  {
   "cell_type": "code",
   "execution_count": 30,
   "id": "736685f7",
   "metadata": {},
   "outputs": [
    {
     "data": {
      "text/plain": [
       "Index(['item_date', 'quantity tons', 'customer', 'country', 'status',\n",
       "       'item type', 'application', 'thickness', 'width', 'product_ref',\n",
       "       'delivery date', 'selling_price', 'CrSArea', 'qty_4', 'spsq'],\n",
       "      dtype='object')"
      ]
     },
     "execution_count": 30,
     "metadata": {},
     "output_type": "execute_result"
    }
   ],
   "source": [
    "df1.columns"
   ]
  },
  {
   "cell_type": "code",
   "execution_count": 34,
   "id": "4ebd92f7",
   "metadata": {},
   "outputs": [
    {
     "data": {
      "text/plain": [
       "W         105600\n",
       "S          69198\n",
       "PL          5658\n",
       "Others       610\n",
       "WI           524\n",
       "IPL           27\n",
       "SLAWR          1\n",
       "Name: item type, dtype: int64"
      ]
     },
     "execution_count": 34,
     "metadata": {},
     "output_type": "execute_result"
    }
   ],
   "source": [
    "df1['item type'].value_counts()"
   ]
  },
  {
   "cell_type": "code",
   "execution_count": 33,
   "id": "e198ae66",
   "metadata": {},
   "outputs": [
    {
     "data": {
      "text/plain": [
       "Won                115997\n",
       "Lost                34431\n",
       "Not lost for AM     19563\n",
       "Revised              4276\n",
       "To be approved       4167\n",
       "Draft                3120\n",
       "Offered                53\n",
       "Offerable              10\n",
       "Wonderful               1\n",
       "Name: status, dtype: int64"
      ]
     },
     "execution_count": 33,
     "metadata": {},
     "output_type": "execute_result"
    }
   ],
   "source": [
    "df1['status'].value_counts()"
   ]
  },
  {
   "cell_type": "code",
   "execution_count": 61,
   "id": "1c256fb3",
   "metadata": {},
   "outputs": [],
   "source": [
    "# Defining X and y\n",
    "X=df1[['country','status','item type', 'application', 'thickness', 'width','qty_4']]\n",
    "y=df1['spsq']"
   ]
  },
  {
   "cell_type": "code",
   "execution_count": 62,
   "id": "0eec269d",
   "metadata": {},
   "outputs": [],
   "source": [
    "# OneHotEncoding the caegorical variables\n",
    "ohe1=OneHotEncoder(handle_unknown='ignore')\n",
    "ohe1.fit(X[['item type']])\n",
    "X_item_ohe=ohe1.fit_transform(X[['item type']]).toarray()\n",
    "\n",
    "ohe2=OneHotEncoder(handle_unknown='ignore')\n",
    "ohe2.fit(X[['status']])\n",
    "X_status_ohe=ohe2.fit_transform(X[['status']]).toarray()\n",
    "\n",
    "ohe3=OneHotEncoder(handle_unknown='ignore')\n",
    "ohe3.fit(X[['application']])\n",
    "X_appl_ohe=ohe3.fit_transform(X[['application']]).toarray()\n",
    "\n",
    "ohe4=OneHotEncoder(handle_unknown='ignore')\n",
    "ohe4.fit(X[['country']])\n",
    "X_country_ohe=ohe4.fit_transform(X[['country']]).toarray()\n"
   ]
  },
  {
   "cell_type": "code",
   "execution_count": 63,
   "id": "b9ae9c39",
   "metadata": {},
   "outputs": [
    {
     "name": "stdout",
     "output_type": "stream",
     "text": [
      "[0. 0. 0. 0. 0. 1. 0.] 7\n",
      "[0. 0. 0. 0. 0. 0. 0. 1. 0.] 9\n",
      "[1. 0. 0. 0. 0. 0. 0. 0. 0. 0. 0. 0. 0. 0. 0. 0. 0. 0. 0. 0. 0. 0. 0. 0.\n",
      " 0. 0. 0. 0. 0. 0.] 30\n",
      "[0. 0. 0. 0. 0. 1. 0. 0. 0. 0. 0. 0. 0. 0. 0. 0. 0.] 17\n"
     ]
    }
   ],
   "source": [
    "print(X_item_ohe[0],len(X_item_ohe[0]))\n",
    "print(X_status_ohe[0],len(X_status_ohe[0]))\n",
    "print(X_appl_ohe[0],len(X_appl_ohe[0]))\n",
    "print(X_country_ohe[0],len(X_country_ohe[0]))"
   ]
  },
  {
   "cell_type": "code",
   "execution_count": 64,
   "id": "59e23a33",
   "metadata": {},
   "outputs": [],
   "source": [
    "X=np.concatenate((X[['thickness', 'width','qty_4']].values,X_item_ohe,X_status_ohe,X_appl_ohe,X_country_ohe),axis=1)"
   ]
  },
  {
   "cell_type": "code",
   "execution_count": 65,
   "id": "b45d1fe1",
   "metadata": {},
   "outputs": [],
   "source": [
    "scaler=StandardScaler()\n",
    "X = scaler.fit_transform(X)"
   ]
  },
  {
   "cell_type": "code",
   "execution_count": 66,
   "id": "788dec5f",
   "metadata": {},
   "outputs": [
    {
     "data": {
      "text/plain": [
       "((145294, 66), (36324, 66), (145294,), (36324,))"
      ]
     },
     "execution_count": 66,
     "metadata": {},
     "output_type": "execute_result"
    }
   ],
   "source": [
    "# Train Test Split\n",
    "X_train, X_test, y_train, y_test = train_test_split(X, y, test_size=0.2, random_state=42)\n",
    "X_train.shape, X_test.shape, y_train.shape, y_test.shape"
   ]
  },
  {
   "cell_type": "code",
   "execution_count": 67,
   "id": "804d07f2",
   "metadata": {},
   "outputs": [
    {
     "name": "stdout",
     "output_type": "stream",
     "text": [
      "Tuned Hyperparameters: {'max_depth': 20, 'max_features': 'auto', 'min_samples_leaf': 4, 'min_samples_split': 10}\n"
     ]
    }
   ],
   "source": [
    "dtr=DecisionTreeRegressor()\n",
    "\n",
    "# Hyperparameters\n",
    "parameters={'max_depth':[2,5,10,20],\n",
    "            'min_samples_split':[2,5,10],\n",
    "            'min_samples_leaf':[1,2,4],\n",
    "            'max_features':['auto','sqrt','log2']}\n",
    "# GridSearchCV\n",
    "grid_search=GridSearchCV(estimator=dtr,param_grid=parameters,cv=5)\n",
    "grid_search.fit(X_train,y_train)\n",
    "\n",
    "print('Tuned Hyperparameters:',grid_search.best_params_)\n",
    "\n",
    "best_model = grid_search.best_estimator_\n",
    "\n",
    "y_predict=best_model.predict(X_test)\n"
   ]
  },
  {
   "cell_type": "code",
   "execution_count": 68,
   "id": "9ddd2460",
   "metadata": {},
   "outputs": [
    {
     "name": "stdout",
     "output_type": "stream",
     "text": [
      "Mean squared error: 6.873693253620182\n",
      "R-squared: 0.6869477789420614\n"
     ]
    }
   ],
   "source": [
    "# Evalution metrics\n",
    "mse = mean_squared_error(y_test, y_predict)\n",
    "r2 = r2_score(y_test, y_predict)\n",
    "print('Mean squared error:', mse)\n",
    "print('R-squared:', r2)\n"
   ]
  },
  {
   "cell_type": "code",
   "execution_count": 46,
   "id": "3bea72e8",
   "metadata": {},
   "outputs": [
    {
     "data": {
      "text/html": [
       "<div>\n",
       "<style scoped>\n",
       "    .dataframe tbody tr th:only-of-type {\n",
       "        vertical-align: middle;\n",
       "    }\n",
       "\n",
       "    .dataframe tbody tr th {\n",
       "        vertical-align: top;\n",
       "    }\n",
       "\n",
       "    .dataframe thead th {\n",
       "        text-align: right;\n",
       "    }\n",
       "</style>\n",
       "<table border=\"1\" class=\"dataframe\">\n",
       "  <thead>\n",
       "    <tr style=\"text-align: right;\">\n",
       "      <th></th>\n",
       "      <th>item_date</th>\n",
       "      <th>quantity tons</th>\n",
       "      <th>customer</th>\n",
       "      <th>country</th>\n",
       "      <th>status</th>\n",
       "      <th>item type</th>\n",
       "      <th>application</th>\n",
       "      <th>thickness</th>\n",
       "      <th>width</th>\n",
       "      <th>product_ref</th>\n",
       "      <th>delivery date</th>\n",
       "      <th>selling_price</th>\n",
       "      <th>CrSArea</th>\n",
       "      <th>qty_4</th>\n",
       "      <th>spsq</th>\n",
       "    </tr>\n",
       "  </thead>\n",
       "  <tbody>\n",
       "    <tr>\n",
       "      <th>0</th>\n",
       "      <td>2021-04-01</td>\n",
       "      <td>7.358668</td>\n",
       "      <td>30156308.0</td>\n",
       "      <td>28.0</td>\n",
       "      <td>Won</td>\n",
       "      <td>W</td>\n",
       "      <td>10.0</td>\n",
       "      <td>0.693147</td>\n",
       "      <td>1500.0</td>\n",
       "      <td>1670798778</td>\n",
       "      <td>2021-07-01</td>\n",
       "      <td>854.00</td>\n",
       "      <td>8.006368</td>\n",
       "      <td>1.647024</td>\n",
       "      <td>29.223278</td>\n",
       "    </tr>\n",
       "    <tr>\n",
       "      <th>1</th>\n",
       "      <td>2021-04-01</td>\n",
       "      <td>27.713174</td>\n",
       "      <td>30202938.0</td>\n",
       "      <td>25.0</td>\n",
       "      <td>Won</td>\n",
       "      <td>W</td>\n",
       "      <td>41.0</td>\n",
       "      <td>-0.223144</td>\n",
       "      <td>1210.0</td>\n",
       "      <td>1668701718</td>\n",
       "      <td>2021-04-01</td>\n",
       "      <td>1047.00</td>\n",
       "      <td>6.875232</td>\n",
       "      <td>2.294413</td>\n",
       "      <td>32.357379</td>\n",
       "    </tr>\n",
       "    <tr>\n",
       "      <th>2</th>\n",
       "      <td>2021-04-01</td>\n",
       "      <td>19.650191</td>\n",
       "      <td>30153963.0</td>\n",
       "      <td>30.0</td>\n",
       "      <td>Won</td>\n",
       "      <td>WI</td>\n",
       "      <td>28.0</td>\n",
       "      <td>-0.967584</td>\n",
       "      <td>952.0</td>\n",
       "      <td>628377</td>\n",
       "      <td>2021-01-01</td>\n",
       "      <td>644.33</td>\n",
       "      <td>5.890981</td>\n",
       "      <td>2.105434</td>\n",
       "      <td>25.383656</td>\n",
       "    </tr>\n",
       "    <tr>\n",
       "      <th>3</th>\n",
       "      <td>2021-04-01</td>\n",
       "      <td>14.227087</td>\n",
       "      <td>30349574.0</td>\n",
       "      <td>32.0</td>\n",
       "      <td>Won</td>\n",
       "      <td>S</td>\n",
       "      <td>59.0</td>\n",
       "      <td>0.832909</td>\n",
       "      <td>1317.0</td>\n",
       "      <td>1668701718</td>\n",
       "      <td>2021-01-01</td>\n",
       "      <td>768.00</td>\n",
       "      <td>8.016021</td>\n",
       "      <td>1.942133</td>\n",
       "      <td>27.712813</td>\n",
       "    </tr>\n",
       "    <tr>\n",
       "      <th>4</th>\n",
       "      <td>2021-04-01</td>\n",
       "      <td>28.027308</td>\n",
       "      <td>30211560.0</td>\n",
       "      <td>28.0</td>\n",
       "      <td>Won</td>\n",
       "      <td>W</td>\n",
       "      <td>10.0</td>\n",
       "      <td>1.386294</td>\n",
       "      <td>2000.0</td>\n",
       "      <td>640665</td>\n",
       "      <td>2021-03-01</td>\n",
       "      <td>577.00</td>\n",
       "      <td>8.987197</td>\n",
       "      <td>2.300887</td>\n",
       "      <td>24.020824</td>\n",
       "    </tr>\n",
       "  </tbody>\n",
       "</table>\n",
       "</div>"
      ],
      "text/plain": [
       "    item_date  quantity tons    customer country status item type application  \\\n",
       "0  2021-04-01       7.358668  30156308.0    28.0    Won         W        10.0   \n",
       "1  2021-04-01      27.713174  30202938.0    25.0    Won         W        41.0   \n",
       "2  2021-04-01      19.650191  30153963.0    30.0    Won        WI        28.0   \n",
       "3  2021-04-01      14.227087  30349574.0    32.0    Won         S        59.0   \n",
       "4  2021-04-01      28.027308  30211560.0    28.0    Won         W        10.0   \n",
       "\n",
       "   thickness   width  product_ref delivery date  selling_price   CrSArea  \\\n",
       "0   0.693147  1500.0   1670798778    2021-07-01         854.00  8.006368   \n",
       "1  -0.223144  1210.0   1668701718    2021-04-01        1047.00  6.875232   \n",
       "2  -0.967584   952.0       628377    2021-01-01         644.33  5.890981   \n",
       "3   0.832909  1317.0   1668701718    2021-01-01         768.00  8.016021   \n",
       "4   1.386294  2000.0       640665    2021-03-01         577.00  8.987197   \n",
       "\n",
       "      qty_4       spsq  \n",
       "0  1.647024  29.223278  \n",
       "1  2.294413  32.357379  \n",
       "2  2.105434  25.383656  \n",
       "3  1.942133  27.712813  \n",
       "4  2.300887  24.020824  "
      ]
     },
     "execution_count": 46,
     "metadata": {},
     "output_type": "execute_result"
    }
   ],
   "source": [
    "df1.head()"
   ]
  },
  {
   "cell_type": "code",
   "execution_count": 54,
   "id": "bc691611",
   "metadata": {},
   "outputs": [
    {
     "name": "stdout",
     "output_type": "stream",
     "text": [
      "[[0. 0. 0. 0. 0. 0. 0. 0. 0. 0. 0. 0. 0. 0. 0. 0. 0.]]\n",
      "[[0. 0. 0. 0. 0. 0. 0. 0. 0. 0. 0. 0. 0. 0. 0. 0. 0.]]\n",
      "[[0. 0. 0. 0. 0. 0. 0. 0. 0. 0. 0. 0. 0. 0. 0. 0. 0.]]\n",
      "[[0. 0. 0. 0. 0. 0. 1. 0. 0. 0. 0. 0. 0. 0. 0. 0. 0.]]\n"
     ]
    }
   ],
   "source": [
    "print(nd_ohe1)\n",
    "print(nd_ohe2)\n",
    "print(nd_ohe3)\n",
    "print(nd_ohe4)\n"
   ]
  },
  {
   "cell_type": "code",
   "execution_count": 55,
   "id": "c677d8e8",
   "metadata": {},
   "outputs": [
    {
     "data": {
      "text/plain": [
       "array([['3.912023005428146', '1500', '1.4953487812212205', '0.0', '0.0',\n",
       "        '0.0', '0.0', '0.0', '0.0', '0.0', '0.0', '0.0', '0.0', '0.0',\n",
       "        '0.0', '0.0', '0.0', '0.0', '0.0', '0.0', '0.0', '0.0', '0.0',\n",
       "        '0.0', '0.0', '0.0', '0.0', '0.0', '0.0', '0.0', '0.0', '0.0',\n",
       "        '0.0', '0.0', '0.0', '0.0', '0.0', '0.0', '0.0', '0.0', '0.0',\n",
       "        '0.0', '0.0', '0.0', '0.0', '0.0', '0.0', '0.0', '0.0', '0.0',\n",
       "        '0.0', '0.0', '0.0', '0.0', '0.0', '0.0', '0.0', '0.0', '0.0',\n",
       "        '0.0', '1.0', '0.0', '0.0', '0.0', '0.0', '0.0', '0.0', '0.0',\n",
       "        '0.0', '0.0', '0.0']], dtype='<U32')"
      ]
     },
     "execution_count": 55,
     "metadata": {},
     "output_type": "execute_result"
    }
   ],
   "source": [
    "new_data"
   ]
  },
  {
   "cell_type": "code",
   "execution_count": 71,
   "id": "e87832c9",
   "metadata": {},
   "outputs": [
    {
     "name": "stdout",
     "output_type": "stream",
     "text": [
      "Predicted SP: [484.19]\n"
     ]
    }
   ],
   "source": [
    "# X[['thickness', 'width','qty_4']].values,X_item_ohe,X_status_ohe,X_appl_ohe,X_country_ohe)\n",
    "\n",
    "new_data=np.array([[np.log(50),1500,np.power(5,1/4),'W','Won','41.0','30.0']])\n",
    "\n",
    "nd_oheA=ohe1.transform(new_data[:,[3]]).toarray()\n",
    "nd_oheB=ohe2.transform(new_data[:,[4]]).toarray()\n",
    "nd_oheC=ohe3.transform(new_data[:,[5]]).toarray()\n",
    "nd_oheD=ohe4.transform(new_data[:,[6]]).toarray()\n",
    "\n",
    "new_data=np.concatenate((new_data[:,[0,1,2,]],nd_oheA,nd_oheB,nd_oheC,nd_oheD),axis=1)\n",
    "new_data1=scaler.transform(new_data)\n",
    "new_predict=best_model.predict(new_data1)\n",
    "\n",
    "print('Predicted SP:',(new_predict**2).round(2))"
   ]
  },
  {
   "cell_type": "code",
   "execution_count": 72,
   "id": "13b20f30",
   "metadata": {},
   "outputs": [],
   "source": [
    "# Saving the model in pickle\n",
    "import pickle\n",
    "with open('DTRmodel.pkl', 'wb') as file:\n",
    "    pickle.dump(best_model, file)\n",
    "with open('DTRscaler.pkl', 'wb') as f:\n",
    "    pickle.dump(scaler, f)\n",
    "with open('itemohe.pkl', 'wb') as f:\n",
    "    pickle.dump(ohe1, f)\n",
    "with open('statusohe.pkl', 'wb') as f:\n",
    "    pickle.dump(ohe2, f)\n",
    "with open('applohe.pkl', 'wb') as f:\n",
    "    pickle.dump(ohe3, f)\n",
    "with open('countryohe.pkl', 'wb') as f:\n",
    "    pickle.dump(ohe4, f)"
   ]
  },
  {
   "cell_type": "code",
   "execution_count": 73,
   "id": "0a392319",
   "metadata": {},
   "outputs": [
    {
     "data": {
      "text/plain": [
       "array(['28.0', '25.0', '30.0', '32.0', '38.0', '78.0', '27.0', '77.0',\n",
       "       '113.0', '79.0', '26.0', '39.0', '40.0', '84.0', '80.0', '107.0',\n",
       "       '89.0'], dtype=object)"
      ]
     },
     "execution_count": 73,
     "metadata": {},
     "output_type": "execute_result"
    }
   ],
   "source": [
    "df1['country'].unique()"
   ]
  },
  {
   "cell_type": "code",
   "execution_count": 75,
   "id": "b0655237",
   "metadata": {},
   "outputs": [
    {
     "data": {
      "text/plain": [
       "array(['10.0', '41.0', '28.0', '59.0', '15.0', '4.0', '38.0', '56.0',\n",
       "       '42.0', '26.0', '27.0', '19.0', '20.0', '66.0', '29.0', '22.0',\n",
       "       '40.0', '25.0', '67.0', '79.0', '3.0', '99.0', '2.0', '5.0',\n",
       "       '39.0', '69.0', '70.0', '65.0', '58.0', '68.0'], dtype=object)"
      ]
     },
     "execution_count": 75,
     "metadata": {},
     "output_type": "execute_result"
    }
   ],
   "source": [
    "df1['application'].unique()"
   ]
  },
  {
   "cell_type": "code",
   "execution_count": 76,
   "id": "2d98f35c",
   "metadata": {},
   "outputs": [
    {
     "data": {
      "text/plain": [
       "array(['Won', 'Draft', 'To be approved', 'Lost', 'Not lost for AM',\n",
       "       'Wonderful', 'Revised', 'Offered', 'Offerable'], dtype=object)"
      ]
     },
     "execution_count": 76,
     "metadata": {},
     "output_type": "execute_result"
    }
   ],
   "source": [
    "df1['status'].unique()"
   ]
  },
  {
   "cell_type": "code",
   "execution_count": null,
   "id": "6a246e51",
   "metadata": {},
   "outputs": [],
   "source": []
  }
 ],
 "metadata": {
  "kernelspec": {
   "display_name": "Python 3 (ipykernel)",
   "language": "python",
   "name": "python3"
  },
  "language_info": {
   "codemirror_mode": {
    "name": "ipython",
    "version": 3
   },
   "file_extension": ".py",
   "mimetype": "text/x-python",
   "name": "python",
   "nbconvert_exporter": "python",
   "pygments_lexer": "ipython3",
   "version": "3.11.2"
  }
 },
 "nbformat": 4,
 "nbformat_minor": 5
}
